{
 "cells": [
  {
   "cell_type": "code",
   "execution_count": 1,
   "source": [
    "import itk\r\n",
    "\r\n",
    "Dimension = 3\r\n",
    "\r\n",
    "FloatPixelType = itk.F\r\n",
    "\r\n",
    "FloatImageType = itk.Image[FloatPixelType, Dimension]\r\n",
    "\r\n",
    "file_name = '.\\\\data\\\\braintumor\\\\BRATS_HG0015_FLAIR.mha'\r\n",
    "file_name = '.\\\\data\\\\mri.tif'\r\n",
    "file_name = '.\\\\data\\\\CT_IMAGE2.nrrd'\r\n",
    "file_name = '.\\\\data\\\\statueLeg.nrrd'\r\n",
    "file_name = '.\\\\data\\\\foo.mha'\r\n",
    "file_name = '.\\\\data\\\\test.mha'\r\n",
    "# file_name = '.\\\\data\\\\months.nrrd'\r\n",
    "\r\n",
    "ReaderType = itk.ImageFileReader[FloatImageType]\r\n",
    "readerChar = ReaderType.New()\r\n",
    "readerChar.SetFileName(file_name)\r\n",
    "\r\n",
    "itk_image = readerChar.GetOutput()"
   ],
   "outputs": [],
   "metadata": {}
  },
  {
   "cell_type": "code",
   "execution_count": 2,
   "source": [
    "import vtk\r\n",
    "\r\n",
    "vtk_image = itk.vtk_image_from_image(itk_image)\r\n",
    "mapper = vtk.vtkGPUVolumeRayCastMapper()\r\n",
    "mapper.SetInputData(vtk_image)\r\n",
    "# mapper.SetInputConnection(vtk_image)\r\n",
    "\r\n",
    "volume = vtk.vtkVolume()\r\n",
    "volume.SetMapper(mapper)\r\n",
    "\r\n",
    "colorDefault = vtk.vtkColorTransferFunction()\r\n",
    "colorDefault.AddRGBPoint(0, *(0,0,0))\r\n",
    "colorDefault.AddRGBPoint(1, *(0,1,0))\r\n",
    "colorDefault.AddRGBSegment(4, *(0, 0, 0), 255, *(1, 1, 1))\r\n",
    "\r\n",
    "opacityDefault = vtk.vtkPiecewiseFunction()\r\n",
    "opacityDefault.AddPoint(0,0)\r\n",
    "opacityDefault.AddPoint(1,0)\r\n",
    "opacityDefault.AddPoint(2,0)\r\n",
    "opacityDefault.AddPoint(3,0)\r\n",
    "opacityDefault.AddSegment(4, 0.,255, 0.01)\r\n",
    "\r\n",
    "\r\n",
    "volumeProperty = volume.GetProperty()\r\n",
    "volumeProperty.SetColor(colorDefault)\r\n",
    "volumeProperty.SetScalarOpacity(opacityDefault)\r\n",
    "volumeProperty.SetInterpolationTypeToNearest()\r\n",
    "\r\n",
    "# --------------------------------------------------\r\n",
    "renderer = vtk.vtkRenderer()\r\n",
    "renderer.AddVolume(volume)\r\n",
    "\r\n",
    "renderer_window = vtk.vtkRenderWindow()\r\n",
    "renderer_window.AddRenderer(renderer)\r\n",
    "\r\n",
    "interactor = vtk.vtkRenderWindowInteractor()\r\n",
    "interactor.SetRenderWindow(renderer_window)\r\n",
    "\r\n",
    "interactor.Initialize()\r\n",
    "renderer_window.Render()\r\n",
    "interactor.Start()"
   ],
   "outputs": [],
   "metadata": {}
  },
  {
   "cell_type": "code",
   "execution_count": 6,
   "source": [
    "from itkwidgets import view\r\n",
    "\r\n",
    "view(itk_image)"
   ],
   "outputs": [
    {
     "output_type": "display_data",
     "data": {
      "text/plain": [
       "Viewer(geometries=[], gradient_opacity=0.22, point_sets=[], rendered_image=<itk.itkImagePython.itkImageF3; pro…"
      ],
      "application/vnd.jupyter.widget-view+json": {
       "version_major": 2,
       "version_minor": 0,
       "model_id": "e7386428a66a4254b24a49c52b977242"
      }
     },
     "metadata": {}
    }
   ],
   "metadata": {}
  },
  {
   "cell_type": "code",
   "execution_count": null,
   "source": [],
   "outputs": [],
   "metadata": {}
  }
 ],
 "metadata": {
  "orig_nbformat": 4,
  "language_info": {
   "name": "python",
   "version": "3.8.13",
   "mimetype": "text/x-python",
   "codemirror_mode": {
    "name": "ipython",
    "version": 3
   },
   "pygments_lexer": "ipython3",
   "nbconvert_exporter": "python",
   "file_extension": ".py"
  },
  "kernelspec": {
   "name": "python3",
   "display_name": "Python 3.8.13 64-bit ('LabVtkItk': conda)"
  },
  "interpreter": {
   "hash": "913f4e99e04cffab3dab7065a75bfb0299695394b593e473900ccbde131af2f5"
  }
 },
 "nbformat": 4,
 "nbformat_minor": 2
}