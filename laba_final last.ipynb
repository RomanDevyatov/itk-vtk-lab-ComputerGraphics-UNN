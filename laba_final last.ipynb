{
 "cells": [
  {
   "cell_type": "markdown",
   "source": [
    "# Cегментации опухоли головного мозга и ее компонентов на основе мультимодальных магнитно-резонансных изображений (МРТ)"
   ],
   "metadata": {}
  },
  {
   "cell_type": "code",
   "execution_count": 2,
   "source": [
    "import itk\r\n",
    "\r\n",
    "Dimension = 3\r\n",
    "\r\n",
    "FloatPixelType = itk.F\r\n",
    "\r\n",
    "ImageType = itk.Image[FloatPixelType, Dimension]\r\n",
    "\r\n",
    "file_name = '.\\\\data\\\\test.mha'\r\n",
    "processed_file_name = 'mask.mha'\r\n",
    "\r\n",
    "ReaderType = itk.ImageFileReader[ImageType]\r\n",
    "reader = ReaderType.New()\r\n",
    "reader.SetFileName(file_name)\r\n",
    "\r\n",
    "itk_image = reader.GetOutput()\r\n",
    "print(type(itk_image))"
   ],
   "outputs": [
    {
     "output_type": "stream",
     "name": "stdout",
     "text": [
      "<class 'itk.itkImagePython.itkImageF3'>\n"
     ]
    }
   ],
   "metadata": {}
  },
  {
   "cell_type": "markdown",
   "source": [
    "# Filtering"
   ],
   "metadata": {}
  },
  {
   "cell_type": "markdown",
   "source": [
    "## Rescale an Image\r\n",
    "### [tutorial link](https://examples.itk.org/src/filtering/imageintensity/rescaleintensity/documentation)"
   ],
   "metadata": {}
  },
  {
   "cell_type": "code",
   "execution_count": 3,
   "source": [
    "import itk\r\n",
    "\r\n",
    "rescaleIntensityImageFilter = itk.RescaleIntensityImageFilter(\r\n",
    "    Input=reader.GetOutput(), \r\n",
    "    OutputMinimum=0, \r\n",
    "    OutputMaximum=255\r\n",
    ")\r\n"
   ],
   "outputs": [],
   "metadata": {}
  },
  {
   "cell_type": "markdown",
   "source": [
    "## Threshold an Image Using Binary Thresholding\r\n",
    "\r\n",
    "### [tutorial](https://examples.itk.org/src/filtering/thresholding/thresholdanimageusingbinary/documentation)"
   ],
   "metadata": {}
  },
  {
   "cell_type": "code",
   "execution_count": 4,
   "source": [
    "import itk\r\n",
    "\r\n",
    "thresholdFilter = itk.ThresholdImageFilter.New(Input=rescaleIntensityImageFilter, Lower=90)\r\n",
    "\r\n",
    "print(type(thresholdFilter))"
   ],
   "outputs": [
    {
     "output_type": "stream",
     "name": "stdout",
     "text": [
      "<class 'itk.itkThresholdImageFilterPython.itkThresholdImageFilterIF3'>\n"
     ]
    }
   ],
   "metadata": {}
  },
  {
   "cell_type": "markdown",
   "source": [
    "# Segmentation"
   ],
   "metadata": {}
  },
  {
   "cell_type": "markdown",
   "source": [
    "[tutorial link](https://examples.itk.org/src/segmentation/watersheds/segmentwithwatershedimagefilter/documentation)"
   ],
   "metadata": {}
  },
  {
   "cell_type": "code",
   "execution_count": 5,
   "source": [
    "import itk\r\n",
    "\r\n",
    "gradientFilter = itk.GradientMagnitudeRecursiveGaussianImageFilter[ImageType, ImageType].New()\r\n",
    "gradientFilter.SetSigma(1.0)\r\n",
    "gradientFilter.SetInput(thresholdFilter.GetOutput())\r\n",
    "gradientFilter.Update()\r\n",
    "\r\n",
    "watershed = itk.WatershedImageFilter.New(Input=gradientFilter.GetOutput())\r\n",
    "watershed.SetThreshold(0.001)\r\n",
    "watershed.SetLevel(0.25)\r\n",
    "watershed.Update()\r\n",
    "\r\n",
    "PixelType = itk.UC\r\n",
    "RGBPixelType = itk.RGBPixel[PixelType]\r\n",
    "RGBImageType = itk.Image[RGBPixelType, Dimension]\r\n",
    "\r\n",
    "LabeledImageType = type(watershed.GetOutput())\r\n",
    "\r\n",
    "ScalarToRGBColormapImageFilterType = itk.ScalarToRGBColormapImageFilter[\r\n",
    "    LabeledImageType, RGBImageType\r\n",
    "]\r\n",
    "\r\n",
    "colormapImageFilter = ScalarToRGBColormapImageFilterType.New()\r\n",
    "colormapImageFilter.SetColormap(\r\n",
    "    itk.ScalarToRGBColormapImageFilterEnums.RGBColormapFilter_Hot\r\n",
    ")\r\n",
    "colormapImageFilter.SetInput(watershed.GetOutput())\r\n",
    "colormapImageFilter.Update()\r\n",
    "\r\n",
    "print(type(colormapImageFilter))"
   ],
   "outputs": [
    {
     "output_type": "stream",
     "name": "stdout",
     "text": [
      "<class 'itk.itkScalarToRGBColormapImageFilterPython.itkScalarToRGBColormapImageFilterIULL3IRGBUC3'>\n"
     ]
    }
   ],
   "metadata": {}
  },
  {
   "cell_type": "markdown",
   "source": [
    "# Writing"
   ],
   "metadata": {}
  },
  {
   "cell_type": "code",
   "execution_count": 6,
   "source": [
    "import itk\r\n",
    "\r\n",
    "writer = itk.ImageFileWriter[RGBImageType].New()\r\n",
    "writer.SetFileName(processed_file_name)\r\n",
    "writer.SetInput(colormapImageFilter.GetOutput())\r\n",
    "# writer.SetUseCompression(True)\r\n",
    "writer.Update()"
   ],
   "outputs": [],
   "metadata": {}
  },
  {
   "cell_type": "markdown",
   "source": [
    "# Reading"
   ],
   "metadata": {}
  },
  {
   "cell_type": "code",
   "execution_count": 7,
   "source": [
    "import itk, vtk\r\n",
    "\r\n",
    "original_reader = vtk.vtkMetaImageReader()\r\n",
    "original_reader.SetFileName(file_name)\r\n",
    "original_reader.Update()\r\n",
    "\r\n",
    "processed_reader = vtk.vtkMetaImageReader()\r\n",
    "processed_reader.SetFileName(processed_file_name)\r\n",
    "processed_reader.Update()\r\n"
   ],
   "outputs": [],
   "metadata": {}
  },
  {
   "cell_type": "markdown",
   "source": [
    "# Output"
   ],
   "metadata": {}
  },
  {
   "cell_type": "code",
   "execution_count": 26,
   "source": [
    "import vtk\r\n",
    "\r\n",
    "\r\n",
    "mapper = vtk.vtkGPUVolumeRayCastMapper()\r\n",
    "mapper.SetInputData(original_reader.GetOutput())\r\n",
    "\r\n",
    "volume = vtk.vtkVolume()\r\n",
    "volume.SetMapper(mapper)\r\n",
    "\r\n",
    "data_min, data_max = original_reader.GetOutput().GetScalarRange()\r\n",
    "\r\n",
    "segment_min, seg_max = data_min, 0.6 * data_max\r\n",
    "\r\n",
    "volume_property = volume.GetProperty()\r\n",
    "\r\n",
    "# original\r\n",
    "ctf_default = vtk.vtkColorTransferFunction()\r\n",
    "ctf_default.AddRGBSegment(segment_min, *(0, 0, 0), seg_max, *(1, 1, 1))\r\n",
    "volume_property.SetColor(ctf_default)\r\n",
    "\r\n",
    "opacity_default = vtk.vtkPiecewiseFunction()\r\n",
    "opacity_default.AddSegment(segment_min, 0., seg_max, 0.2)\r\n",
    "volume_property.SetScalarOpacity(opacity_default)\r\n",
    "\r\n",
    "# processed\r\n",
    "ctf_processed = vtk.vtkColorTransferFunction()\r\n",
    "ctf_processed.AddRGBSegment(segment_min, *(0, 1, 0), seg_max, *(0, 1, 1))\r\n",
    "volume_property.SetLabelColor(1, ctf_processed)\r\n",
    "\r\n",
    "opacity_processed = vtk.vtkPiecewiseFunction()\r\n",
    "opacity_processed.AddSegment(segment_min, 0., seg_max, 1.)\r\n",
    "volume_property.SetLabelScalarOpacity(1, opacity_processed)\r\n",
    "\r\n",
    "# mask setting\r\n",
    "volume_mapper = volume.GetMapper()\r\n",
    "volume_mapper.SetMaskInput(processed_reader.GetOutput())\r\n",
    "\r\n",
    "\r\n",
    "# RENDERING\r\n",
    "renderer = vtk.vtkRenderer()\r\n",
    "renderer.AddVolume(volume)\r\n",
    "\r\n",
    "renderer_window = vtk.vtkRenderWindow()\r\n",
    "renderer_window.AddRenderer(renderer)\r\n",
    "\r\n",
    "interactor = vtk.vtkRenderWindowInteractor()\r\n",
    "interactor.SetRenderWindow(renderer_window)\r\n",
    "\r\n",
    "interactor.Initialize()\r\n",
    "renderer_window.Render()\r\n",
    "interactor.Start()"
   ],
   "outputs": [],
   "metadata": {}
  },
  {
   "cell_type": "code",
   "execution_count": null,
   "source": [],
   "outputs": [],
   "metadata": {}
  },
  {
   "cell_type": "code",
   "execution_count": null,
   "source": [],
   "outputs": [],
   "metadata": {}
  },
  {
   "cell_type": "markdown",
   "source": [
    "# Custom output"
   ],
   "metadata": {}
  },
  {
   "cell_type": "code",
   "execution_count": 9,
   "source": [
    "# import vtk\r\n",
    "\r\n",
    "# vtk_image = processed_reader.GetOutput() #itk.vtk_image_from_image(thresholdFilter.GetOutput())\r\n",
    "# mapper = vtk.vtkGPUVolumeRayCastMapper()\r\n",
    "# mapper.SetInputData(vtk_image)\r\n",
    "# # mapper.SetInputConnection(vtk_image)\r\n",
    "\r\n",
    "# volume = vtk.vtkVolume()\r\n",
    "# volume.SetMapper(mapper)\r\n",
    "\r\n",
    "# black = (0, 0, 0)\r\n",
    "# white = (1, 1, 1)\r\n",
    "# green = (0, 1, 0)\r\n",
    "# blue  = (0, 0, 1)\r\n",
    "\r\n",
    "# colorDefault = vtk.vtkColorTransferFunction()\r\n",
    "# colorDefault.AddRGBPoint(0, *black)\r\n",
    "# colorDefault.AddRGBPoint(1, *green)\r\n",
    "# colorDefault.AddRGBPoint(2, *white)\r\n",
    "# colorDefault.AddRGBPoint(3, *blue)\r\n",
    "# colorDefault.AddRGBSegment(4, *black, 255, *white)\r\n",
    "\r\n",
    "# opacityDefault = vtk.vtkPiecewiseFunction()\r\n",
    "# opacityDefault.AddPoint(0,0)\r\n",
    "# opacityDefault.AddPoint(1,0.1)\r\n",
    "# opacityDefault.AddPoint(2,0)\r\n",
    "# opacityDefault.AddPoint(3,0)\r\n",
    "# opacityDefault.AddSegment(4, 0.,255, 0.01)\r\n",
    "\r\n",
    "\r\n",
    "# volumeProperty = volume.GetProperty()\r\n",
    "# volumeProperty.SetColor(colorDefault)\r\n",
    "# volumeProperty.SetScalarOpacity(opacityDefault)\r\n",
    "# volumeProperty.SetInterpolationTypeToNearest()\r\n",
    "\r\n",
    "# # --------------------------------------------------\r\n",
    "# renderer = vtk.vtkRenderer()\r\n",
    "# renderer.AddVolume(volume)\r\n",
    "\r\n",
    "# renderer_window = vtk.vtkRenderWindow()\r\n",
    "# renderer_window.AddRenderer(renderer)\r\n",
    "\r\n",
    "# interactor = vtk.vtkRenderWindowInteractor()\r\n",
    "# interactor.SetRenderWindow(renderer_window)\r\n",
    "\r\n",
    "# interactor.Initialize()\r\n",
    "# interactor.Start()"
   ],
   "outputs": [],
   "metadata": {}
  },
  {
   "cell_type": "code",
   "execution_count": 10,
   "source": [
    "from itkwidgets import view\r\n",
    "\r\n",
    "view(thresholdFilter)"
   ],
   "outputs": [
    {
     "output_type": "display_data",
     "data": {
      "text/plain": [
       "Viewer(geometries=[], gradient_opacity=0.22, point_sets=[], rendered_image=<itk.itkImagePython.itkImageF3; pro…"
      ],
      "application/vnd.jupyter.widget-view+json": {
       "version_major": 2,
       "version_minor": 0,
       "model_id": "ebeeb8cf617f408bb6371d9f1ca3bef2"
      }
     },
     "metadata": {}
    }
   ],
   "metadata": {}
  },
  {
   "cell_type": "code",
   "execution_count": 11,
   "source": [
    "from itkwidgets import view\r\n",
    "\r\n",
    "view(colormapImageFilter)"
   ],
   "outputs": [
    {
     "output_type": "display_data",
     "data": {
      "text/plain": [
       "Viewer(geometries=[], gradient_opacity=0.22, point_sets=[], rendered_image=<itk.itkImagePython.itkImageRGBUC3;…"
      ],
      "application/vnd.jupyter.widget-view+json": {
       "version_major": 2,
       "version_minor": 0,
       "model_id": "2207660ecefe43428f09a489ac871f91"
      }
     },
     "metadata": {}
    }
   ],
   "metadata": {}
  },
  {
   "cell_type": "code",
   "execution_count": null,
   "source": [],
   "outputs": [],
   "metadata": {}
  }
 ],
 "metadata": {
  "orig_nbformat": 4,
  "language_info": {
   "name": "python",
   "version": "3.8.13",
   "mimetype": "text/x-python",
   "codemirror_mode": {
    "name": "ipython",
    "version": 3
   },
   "pygments_lexer": "ipython3",
   "nbconvert_exporter": "python",
   "file_extension": ".py"
  },
  "kernelspec": {
   "name": "python3",
   "display_name": "Python 3.8.13 64-bit ('LabVtkItk': conda)"
  },
  "interpreter": {
   "hash": "913f4e99e04cffab3dab7065a75bfb0299695394b593e473900ccbde131af2f5"
  }
 },
 "nbformat": 4,
 "nbformat_minor": 2
}